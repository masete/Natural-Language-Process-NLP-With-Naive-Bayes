{
 "cells": [
  {
   "cell_type": "code",
   "execution_count": 1,
   "id": "95248739-e02c-43a1-aa65-85a9f0c13ccb",
   "metadata": {},
   "outputs": [],
   "source": [
    "import numpy as np # linear algebra\n",
    "import pandas as pd # data processing, CSV file I/O (e.g. pd.read_csv)\n",
    "import matplotlib.pyplot as plt\n",
    "import seaborn as sns"
   ]
  },
  {
   "cell_type": "markdown",
   "id": "1924e5a4-098e-4c0a-be95-c290efbff0ec",
   "metadata": {},
   "source": [
    "## Data Review and Data Preparing"
   ]
  },
  {
   "cell_type": "code",
   "execution_count": 2,
   "id": "6520708a-3930-4d07-bc62-28cfb335991a",
   "metadata": {},
   "outputs": [],
   "source": [
    "data = pd.read_csv('data/Sheet_1.csv', encoding=\"latin1\")"
   ]
  },
  {
   "cell_type": "code",
   "execution_count": 3,
   "id": "b073ab0a-d8fc-49ad-9d00-7c48e26ea15c",
   "metadata": {},
   "outputs": [
    {
     "data": {
      "text/html": [
       "<div>\n",
       "<style scoped>\n",
       "    .dataframe tbody tr th:only-of-type {\n",
       "        vertical-align: middle;\n",
       "    }\n",
       "\n",
       "    .dataframe tbody tr th {\n",
       "        vertical-align: top;\n",
       "    }\n",
       "\n",
       "    .dataframe thead th {\n",
       "        text-align: right;\n",
       "    }\n",
       "</style>\n",
       "<table border=\"1\" class=\"dataframe\">\n",
       "  <thead>\n",
       "    <tr style=\"text-align: right;\">\n",
       "      <th></th>\n",
       "      <th>response_id</th>\n",
       "      <th>class</th>\n",
       "      <th>response_text</th>\n",
       "      <th>Unnamed: 3</th>\n",
       "      <th>Unnamed: 4</th>\n",
       "      <th>Unnamed: 5</th>\n",
       "      <th>Unnamed: 6</th>\n",
       "      <th>Unnamed: 7</th>\n",
       "    </tr>\n",
       "  </thead>\n",
       "  <tbody>\n",
       "    <tr>\n",
       "      <th>0</th>\n",
       "      <td>response_1</td>\n",
       "      <td>not_flagged</td>\n",
       "      <td>I try and avoid this sort of conflict</td>\n",
       "      <td>NaN</td>\n",
       "      <td>NaN</td>\n",
       "      <td>NaN</td>\n",
       "      <td>NaN</td>\n",
       "      <td>NaN</td>\n",
       "    </tr>\n",
       "    <tr>\n",
       "      <th>1</th>\n",
       "      <td>response_2</td>\n",
       "      <td>flagged</td>\n",
       "      <td>Had a friend open up to me about his mental ad...</td>\n",
       "      <td>NaN</td>\n",
       "      <td>NaN</td>\n",
       "      <td>NaN</td>\n",
       "      <td>NaN</td>\n",
       "      <td>NaN</td>\n",
       "    </tr>\n",
       "    <tr>\n",
       "      <th>2</th>\n",
       "      <td>response_3</td>\n",
       "      <td>flagged</td>\n",
       "      <td>I saved a girl from suicide once. She was goin...</td>\n",
       "      <td>NaN</td>\n",
       "      <td>NaN</td>\n",
       "      <td>NaN</td>\n",
       "      <td>NaN</td>\n",
       "      <td>NaN</td>\n",
       "    </tr>\n",
       "    <tr>\n",
       "      <th>3</th>\n",
       "      <td>response_4</td>\n",
       "      <td>not_flagged</td>\n",
       "      <td>i cant think of one really...i think i may hav...</td>\n",
       "      <td>NaN</td>\n",
       "      <td>NaN</td>\n",
       "      <td>NaN</td>\n",
       "      <td>NaN</td>\n",
       "      <td>NaN</td>\n",
       "    </tr>\n",
       "    <tr>\n",
       "      <th>4</th>\n",
       "      <td>response_5</td>\n",
       "      <td>not_flagged</td>\n",
       "      <td>Only really one friend who doesn't fit into th...</td>\n",
       "      <td></td>\n",
       "      <td>NaN</td>\n",
       "      <td>NaN</td>\n",
       "      <td>NaN</td>\n",
       "      <td>NaN</td>\n",
       "    </tr>\n",
       "    <tr>\n",
       "      <th>...</th>\n",
       "      <td>...</td>\n",
       "      <td>...</td>\n",
       "      <td>...</td>\n",
       "      <td>...</td>\n",
       "      <td>...</td>\n",
       "      <td>...</td>\n",
       "      <td>...</td>\n",
       "      <td>...</td>\n",
       "    </tr>\n",
       "    <tr>\n",
       "      <th>75</th>\n",
       "      <td>response_76</td>\n",
       "      <td>not_flagged</td>\n",
       "      <td>Now that I've been through it, although i'm no...</td>\n",
       "      <td>NaN</td>\n",
       "      <td>NaN</td>\n",
       "      <td>NaN</td>\n",
       "      <td>NaN</td>\n",
       "      <td>NaN</td>\n",
       "    </tr>\n",
       "    <tr>\n",
       "      <th>76</th>\n",
       "      <td>response_77</td>\n",
       "      <td>flagged</td>\n",
       "      <td>when my best friends mom past away from od'ing...</td>\n",
       "      <td>NaN</td>\n",
       "      <td>NaN</td>\n",
       "      <td>NaN</td>\n",
       "      <td>NaN</td>\n",
       "      <td>NaN</td>\n",
       "    </tr>\n",
       "    <tr>\n",
       "      <th>77</th>\n",
       "      <td>response_78</td>\n",
       "      <td>not_flagged</td>\n",
       "      <td>As a camp counselor I provide stability in kid...</td>\n",
       "      <td>NaN</td>\n",
       "      <td>NaN</td>\n",
       "      <td>NaN</td>\n",
       "      <td>NaN</td>\n",
       "      <td>NaN</td>\n",
       "    </tr>\n",
       "    <tr>\n",
       "      <th>78</th>\n",
       "      <td>response_79</td>\n",
       "      <td>flagged</td>\n",
       "      <td>My now girlfriend used to have serious addicti...</td>\n",
       "      <td>NaN</td>\n",
       "      <td>NaN</td>\n",
       "      <td>NaN</td>\n",
       "      <td>NaN</td>\n",
       "      <td>NaN</td>\n",
       "    </tr>\n",
       "    <tr>\n",
       "      <th>79</th>\n",
       "      <td>response_80</td>\n",
       "      <td>not_flagged</td>\n",
       "      <td>The one person I ever talked to it was because...</td>\n",
       "      <td>NaN</td>\n",
       "      <td>NaN</td>\n",
       "      <td>NaN</td>\n",
       "      <td>NaN</td>\n",
       "      <td>NaN</td>\n",
       "    </tr>\n",
       "  </tbody>\n",
       "</table>\n",
       "<p>80 rows × 8 columns</p>\n",
       "</div>"
      ],
      "text/plain": [
       "    response_id        class  \\\n",
       "0    response_1  not_flagged   \n",
       "1    response_2      flagged   \n",
       "2    response_3      flagged   \n",
       "3    response_4  not_flagged   \n",
       "4    response_5  not_flagged   \n",
       "..          ...          ...   \n",
       "75  response_76  not_flagged   \n",
       "76  response_77      flagged   \n",
       "77  response_78  not_flagged   \n",
       "78  response_79      flagged   \n",
       "79  response_80  not_flagged   \n",
       "\n",
       "                                        response_text Unnamed: 3  Unnamed: 4  \\\n",
       "0               I try and avoid this sort of conflict        NaN         NaN   \n",
       "1   Had a friend open up to me about his mental ad...        NaN         NaN   \n",
       "2   I saved a girl from suicide once. She was goin...        NaN         NaN   \n",
       "3   i cant think of one really...i think i may hav...        NaN         NaN   \n",
       "4   Only really one friend who doesn't fit into th...                    NaN   \n",
       "..                                                ...        ...         ...   \n",
       "75  Now that I've been through it, although i'm no...        NaN         NaN   \n",
       "76  when my best friends mom past away from od'ing...        NaN         NaN   \n",
       "77  As a camp counselor I provide stability in kid...        NaN         NaN   \n",
       "78  My now girlfriend used to have serious addicti...        NaN         NaN   \n",
       "79  The one person I ever talked to it was because...        NaN         NaN   \n",
       "\n",
       "   Unnamed: 5  Unnamed: 6 Unnamed: 7  \n",
       "0         NaN         NaN        NaN  \n",
       "1         NaN         NaN        NaN  \n",
       "2         NaN         NaN        NaN  \n",
       "3         NaN         NaN        NaN  \n",
       "4         NaN         NaN        NaN  \n",
       "..        ...         ...        ...  \n",
       "75        NaN         NaN        NaN  \n",
       "76        NaN         NaN        NaN  \n",
       "77        NaN         NaN        NaN  \n",
       "78        NaN         NaN        NaN  \n",
       "79        NaN         NaN        NaN  \n",
       "\n",
       "[80 rows x 8 columns]"
      ]
     },
     "execution_count": 3,
     "metadata": {},
     "output_type": "execute_result"
    }
   ],
   "source": [
    "data"
   ]
  },
  {
   "cell_type": "code",
   "execution_count": 4,
   "id": "01572940-655f-42c5-a29a-591d95e50d19",
   "metadata": {},
   "outputs": [
    {
     "data": {
      "text/html": [
       "<div>\n",
       "<style scoped>\n",
       "    .dataframe tbody tr th:only-of-type {\n",
       "        vertical-align: middle;\n",
       "    }\n",
       "\n",
       "    .dataframe tbody tr th {\n",
       "        vertical-align: top;\n",
       "    }\n",
       "\n",
       "    .dataframe thead th {\n",
       "        text-align: right;\n",
       "    }\n",
       "</style>\n",
       "<table border=\"1\" class=\"dataframe\">\n",
       "  <thead>\n",
       "    <tr style=\"text-align: right;\">\n",
       "      <th></th>\n",
       "      <th>class</th>\n",
       "      <th>response_text</th>\n",
       "    </tr>\n",
       "  </thead>\n",
       "  <tbody>\n",
       "    <tr>\n",
       "      <th>0</th>\n",
       "      <td>not_flagged</td>\n",
       "      <td>I try and avoid this sort of conflict</td>\n",
       "    </tr>\n",
       "    <tr>\n",
       "      <th>1</th>\n",
       "      <td>flagged</td>\n",
       "      <td>Had a friend open up to me about his mental ad...</td>\n",
       "    </tr>\n",
       "    <tr>\n",
       "      <th>2</th>\n",
       "      <td>flagged</td>\n",
       "      <td>I saved a girl from suicide once. She was goin...</td>\n",
       "    </tr>\n",
       "    <tr>\n",
       "      <th>3</th>\n",
       "      <td>not_flagged</td>\n",
       "      <td>i cant think of one really...i think i may hav...</td>\n",
       "    </tr>\n",
       "    <tr>\n",
       "      <th>4</th>\n",
       "      <td>not_flagged</td>\n",
       "      <td>Only really one friend who doesn't fit into th...</td>\n",
       "    </tr>\n",
       "    <tr>\n",
       "      <th>...</th>\n",
       "      <td>...</td>\n",
       "      <td>...</td>\n",
       "    </tr>\n",
       "    <tr>\n",
       "      <th>75</th>\n",
       "      <td>not_flagged</td>\n",
       "      <td>Now that I've been through it, although i'm no...</td>\n",
       "    </tr>\n",
       "    <tr>\n",
       "      <th>76</th>\n",
       "      <td>flagged</td>\n",
       "      <td>when my best friends mom past away from od'ing...</td>\n",
       "    </tr>\n",
       "    <tr>\n",
       "      <th>77</th>\n",
       "      <td>not_flagged</td>\n",
       "      <td>As a camp counselor I provide stability in kid...</td>\n",
       "    </tr>\n",
       "    <tr>\n",
       "      <th>78</th>\n",
       "      <td>flagged</td>\n",
       "      <td>My now girlfriend used to have serious addicti...</td>\n",
       "    </tr>\n",
       "    <tr>\n",
       "      <th>79</th>\n",
       "      <td>not_flagged</td>\n",
       "      <td>The one person I ever talked to it was because...</td>\n",
       "    </tr>\n",
       "  </tbody>\n",
       "</table>\n",
       "<p>80 rows × 2 columns</p>\n",
       "</div>"
      ],
      "text/plain": [
       "          class                                      response_text\n",
       "0   not_flagged              I try and avoid this sort of conflict\n",
       "1       flagged  Had a friend open up to me about his mental ad...\n",
       "2       flagged  I saved a girl from suicide once. She was goin...\n",
       "3   not_flagged  i cant think of one really...i think i may hav...\n",
       "4   not_flagged  Only really one friend who doesn't fit into th...\n",
       "..          ...                                                ...\n",
       "75  not_flagged  Now that I've been through it, although i'm no...\n",
       "76      flagged  when my best friends mom past away from od'ing...\n",
       "77  not_flagged  As a camp counselor I provide stability in kid...\n",
       "78      flagged  My now girlfriend used to have serious addicti...\n",
       "79  not_flagged  The one person I ever talked to it was because...\n",
       "\n",
       "[80 rows x 2 columns]"
      ]
     },
     "execution_count": 4,
     "metadata": {},
     "output_type": "execute_result"
    }
   ],
   "source": [
    "data = pd.concat([data[\"class\"],data[\"response_text\"]], axis = 1)\n",
    "# Sheet_1.drop([\"response_id\",\"Unnamed: 3\",\"Unnamed: 4\",\"Unnamed: 5\",\"Unnamed: 6\",\"Unnamed: 7\"], axis = 1, inplace = True)\n",
    "\n",
    "data.dropna(axis = 0, inplace=True)\n",
    "data"
   ]
  },
  {
   "cell_type": "markdown",
   "id": "6786b5b1-cc15-4a31-b569-a60b8da3b4b2",
   "metadata": {},
   "source": [
    "I will assign a numeric value to the data in the class column because the model has to be a numeric value during learning."
   ]
  },
  {
   "cell_type": "code",
   "execution_count": 5,
   "id": "85437832-d149-48ca-b844-fed236b8f4ea",
   "metadata": {},
   "outputs": [
    {
     "data": {
      "text/html": [
       "<div>\n",
       "<style scoped>\n",
       "    .dataframe tbody tr th:only-of-type {\n",
       "        vertical-align: middle;\n",
       "    }\n",
       "\n",
       "    .dataframe tbody tr th {\n",
       "        vertical-align: top;\n",
       "    }\n",
       "\n",
       "    .dataframe thead th {\n",
       "        text-align: right;\n",
       "    }\n",
       "</style>\n",
       "<table border=\"1\" class=\"dataframe\">\n",
       "  <thead>\n",
       "    <tr style=\"text-align: right;\">\n",
       "      <th></th>\n",
       "      <th>class</th>\n",
       "      <th>response_text</th>\n",
       "    </tr>\n",
       "  </thead>\n",
       "  <tbody>\n",
       "    <tr>\n",
       "      <th>0</th>\n",
       "      <td>0</td>\n",
       "      <td>I try and avoid this sort of conflict</td>\n",
       "    </tr>\n",
       "    <tr>\n",
       "      <th>1</th>\n",
       "      <td>1</td>\n",
       "      <td>Had a friend open up to me about his mental ad...</td>\n",
       "    </tr>\n",
       "    <tr>\n",
       "      <th>2</th>\n",
       "      <td>1</td>\n",
       "      <td>I saved a girl from suicide once. She was goin...</td>\n",
       "    </tr>\n",
       "    <tr>\n",
       "      <th>3</th>\n",
       "      <td>0</td>\n",
       "      <td>i cant think of one really...i think i may hav...</td>\n",
       "    </tr>\n",
       "    <tr>\n",
       "      <th>4</th>\n",
       "      <td>0</td>\n",
       "      <td>Only really one friend who doesn't fit into th...</td>\n",
       "    </tr>\n",
       "    <tr>\n",
       "      <th>...</th>\n",
       "      <td>...</td>\n",
       "      <td>...</td>\n",
       "    </tr>\n",
       "    <tr>\n",
       "      <th>75</th>\n",
       "      <td>0</td>\n",
       "      <td>Now that I've been through it, although i'm no...</td>\n",
       "    </tr>\n",
       "    <tr>\n",
       "      <th>76</th>\n",
       "      <td>1</td>\n",
       "      <td>when my best friends mom past away from od'ing...</td>\n",
       "    </tr>\n",
       "    <tr>\n",
       "      <th>77</th>\n",
       "      <td>0</td>\n",
       "      <td>As a camp counselor I provide stability in kid...</td>\n",
       "    </tr>\n",
       "    <tr>\n",
       "      <th>78</th>\n",
       "      <td>1</td>\n",
       "      <td>My now girlfriend used to have serious addicti...</td>\n",
       "    </tr>\n",
       "    <tr>\n",
       "      <th>79</th>\n",
       "      <td>0</td>\n",
       "      <td>The one person I ever talked to it was because...</td>\n",
       "    </tr>\n",
       "  </tbody>\n",
       "</table>\n",
       "<p>80 rows × 2 columns</p>\n",
       "</div>"
      ],
      "text/plain": [
       "    class                                      response_text\n",
       "0       0              I try and avoid this sort of conflict\n",
       "1       1  Had a friend open up to me about his mental ad...\n",
       "2       1  I saved a girl from suicide once. She was goin...\n",
       "3       0  i cant think of one really...i think i may hav...\n",
       "4       0  Only really one friend who doesn't fit into th...\n",
       "..    ...                                                ...\n",
       "75      0  Now that I've been through it, although i'm no...\n",
       "76      1  when my best friends mom past away from od'ing...\n",
       "77      0  As a camp counselor I provide stability in kid...\n",
       "78      1  My now girlfriend used to have serious addicti...\n",
       "79      0  The one person I ever talked to it was because...\n",
       "\n",
       "[80 rows x 2 columns]"
      ]
     },
     "execution_count": 5,
     "metadata": {},
     "output_type": "execute_result"
    }
   ],
   "source": [
    "# not_flagged = 0\n",
    "# flagged = 1\n",
    "data['class']=data.loc[:, 'class'].map({'not_flagged':0, 'flagged':1})\n",
    "data"
   ]
  },
  {
   "cell_type": "code",
   "execution_count": 6,
   "id": "44388e3c-ee65-4b3a-812f-365fb58cab84",
   "metadata": {},
   "outputs": [
    {
     "name": "stdout",
     "output_type": "stream",
     "text": [
      "<class 'pandas.core.frame.DataFrame'>\n",
      "Int64Index: 80 entries, 0 to 79\n",
      "Data columns (total 2 columns):\n",
      " #   Column         Non-Null Count  Dtype \n",
      "---  ------         --------------  ----- \n",
      " 0   class          80 non-null     int64 \n",
      " 1   response_text  80 non-null     object\n",
      "dtypes: int64(1), object(1)\n",
      "memory usage: 1.9+ KB\n"
     ]
    }
   ],
   "source": [
    "# information of data\n",
    "data.info()"
   ]
  },
  {
   "cell_type": "code",
   "execution_count": 7,
   "id": "7906e202-b7cf-43ba-b774-9d52aa37f96d",
   "metadata": {},
   "outputs": [
    {
     "data": {
      "text/plain": [
       "Index(['class', 'response_text'], dtype='object')"
      ]
     },
     "execution_count": 7,
     "metadata": {},
     "output_type": "execute_result"
    }
   ],
   "source": [
    "# Dataset columns names\n",
    "data.columns"
   ]
  },
  {
   "cell_type": "markdown",
   "id": "7154ac1a-c9f5-4021-bd49-46f0235a930d",
   "metadata": {},
   "source": [
    "## Natural Language Process (NLP)\n",
    "### What is the Natural Language Process(NLP)?\n",
    "#### Natural language processing (NLP) is a branch of artificial intelligence (AI) that enables computers to comprehend, generate, and manipulate human language."
   ]
  },
  {
   "cell_type": "code",
   "execution_count": 8,
   "id": "fef973b8-058f-4028-a7f6-2b854e7d1a4d",
   "metadata": {},
   "outputs": [
    {
     "data": {
      "text/html": [
       "<div>\n",
       "<style scoped>\n",
       "    .dataframe tbody tr th:only-of-type {\n",
       "        vertical-align: middle;\n",
       "    }\n",
       "\n",
       "    .dataframe tbody tr th {\n",
       "        vertical-align: top;\n",
       "    }\n",
       "\n",
       "    .dataframe thead th {\n",
       "        text-align: right;\n",
       "    }\n",
       "</style>\n",
       "<table border=\"1\" class=\"dataframe\">\n",
       "  <thead>\n",
       "    <tr style=\"text-align: right;\">\n",
       "      <th></th>\n",
       "      <th>class</th>\n",
       "      <th>response_text</th>\n",
       "    </tr>\n",
       "  </thead>\n",
       "  <tbody>\n",
       "    <tr>\n",
       "      <th>0</th>\n",
       "      <td>0</td>\n",
       "      <td>I try and avoid this sort of conflict</td>\n",
       "    </tr>\n",
       "    <tr>\n",
       "      <th>1</th>\n",
       "      <td>1</td>\n",
       "      <td>Had a friend open up to me about his mental ad...</td>\n",
       "    </tr>\n",
       "    <tr>\n",
       "      <th>2</th>\n",
       "      <td>1</td>\n",
       "      <td>I saved a girl from suicide once. She was goin...</td>\n",
       "    </tr>\n",
       "    <tr>\n",
       "      <th>3</th>\n",
       "      <td>0</td>\n",
       "      <td>i cant think of one really...i think i may hav...</td>\n",
       "    </tr>\n",
       "    <tr>\n",
       "      <th>4</th>\n",
       "      <td>0</td>\n",
       "      <td>Only really one friend who doesn't fit into th...</td>\n",
       "    </tr>\n",
       "    <tr>\n",
       "      <th>5</th>\n",
       "      <td>0</td>\n",
       "      <td>a couple of years ago my friends was going to ...</td>\n",
       "    </tr>\n",
       "    <tr>\n",
       "      <th>6</th>\n",
       "      <td>1</td>\n",
       "      <td>Roommate when he was going through death and l...</td>\n",
       "    </tr>\n",
       "    <tr>\n",
       "      <th>7</th>\n",
       "      <td>1</td>\n",
       "      <td>i've had a couple of friends (you could say mo...</td>\n",
       "    </tr>\n",
       "    <tr>\n",
       "      <th>8</th>\n",
       "      <td>0</td>\n",
       "      <td>Listened to someone talk about relationship tr...</td>\n",
       "    </tr>\n",
       "    <tr>\n",
       "      <th>9</th>\n",
       "      <td>1</td>\n",
       "      <td>I will always listen. I comforted my sister wh...</td>\n",
       "    </tr>\n",
       "  </tbody>\n",
       "</table>\n",
       "</div>"
      ],
      "text/plain": [
       "   class                                      response_text\n",
       "0      0              I try and avoid this sort of conflict\n",
       "1      1  Had a friend open up to me about his mental ad...\n",
       "2      1  I saved a girl from suicide once. She was goin...\n",
       "3      0  i cant think of one really...i think i may hav...\n",
       "4      0  Only really one friend who doesn't fit into th...\n",
       "5      0  a couple of years ago my friends was going to ...\n",
       "6      1  Roommate when he was going through death and l...\n",
       "7      1  i've had a couple of friends (you could say mo...\n",
       "8      0  Listened to someone talk about relationship tr...\n",
       "9      1  I will always listen. I comforted my sister wh..."
      ]
     },
     "execution_count": 8,
     "metadata": {},
     "output_type": "execute_result"
    }
   ],
   "source": [
    "data.head(10)"
   ]
  },
  {
   "cell_type": "markdown",
   "id": "0a414756-d0e2-4a29-9a3d-6101564dd4d2",
   "metadata": {},
   "source": [
    "### Regular expression operations \n",
    "#### In this section, I will clean the non-letter symbols with the Re library. (/, *, -, ',\")"
   ]
  },
  {
   "cell_type": "markdown",
   "id": "ce0f280d-70c5-4181-82c4-676c1d2a1cc2",
   "metadata": {},
   "source": [
    "This is the fourth data in the column of response_text."
   ]
  },
  {
   "cell_type": "code",
   "execution_count": 9,
   "id": "3fd7853a-e2ee-40db-a049-7a2f611e24c6",
   "metadata": {},
   "outputs": [
    {
     "data": {
      "text/plain": [
       "'Only really one friend who doesn\\'t fit into the any of the above categories. Her therapist calls it spiraling.\" Anyway she pretty much calls me any time she is frustrated by something with  her boyfriend to ask me if it\\'s logical or not. Before they would just fight and he would call her crazy. Now she asks me if it\\'s ok he didn\\'t say \"please\" when he said  \"hand me the remote.\"'"
      ]
     },
     "execution_count": 9,
     "metadata": {},
     "output_type": "execute_result"
    }
   ],
   "source": [
    "data.response_text[4]"
   ]
  },
  {
   "cell_type": "markdown",
   "id": "0e45b904-319d-4de7-8030-65b25b834b3a",
   "metadata": {},
   "source": [
    "### Cleaning Data"
   ]
  },
  {
   "cell_type": "code",
   "execution_count": 10,
   "id": "8a4068ef-46f6-4df5-af06-1909f1d4a2e5",
   "metadata": {},
   "outputs": [],
   "source": [
    "import re\n",
    "first_Res_text = data.response_text[4]\n",
    "Res_text = re.sub(\"[^a-zA-Z]\",\" \", first_Res_text)\n",
    "Res_text = Res_text.lower()"
   ]
  },
  {
   "cell_type": "markdown",
   "id": "bc06bf91-c4fd-48a9-9f61-221c1720d018",
   "metadata": {},
   "source": [
    "#### This data is the aspect after cleaning data."
   ]
  },
  {
   "cell_type": "code",
   "execution_count": 11,
   "id": "f781b69a-6107-4d0b-8db2-5aaad9e547a4",
   "metadata": {},
   "outputs": [
    {
     "data": {
      "text/plain": [
       "'only really one friend who doesn t fit into the any of the above categories  her therapist calls it spiraling   anyway she pretty much calls me any time she is frustrated by something with  her boyfriend to ask me if it s logical or not  before they would just fight and he would call her crazy  now she asks me if it s ok he didn t say  please  when he said   hand me the remote  '"
      ]
     },
     "execution_count": 11,
     "metadata": {},
     "output_type": "execute_result"
    }
   ],
   "source": [
    "Res_text"
   ]
  },
  {
   "cell_type": "markdown",
   "id": "97a49373-7b2d-4800-ae75-c39b1e00e6ad",
   "metadata": {},
   "source": [
    "#### NLTK \n",
    "##### In this chapter, I will get the words in the sentence."
   ]
  },
  {
   "cell_type": "code",
   "execution_count": 12,
   "id": "d91ec762-8fa0-4b26-bc4d-2f10aa3d5a46",
   "metadata": {},
   "outputs": [],
   "source": [
    "import nltk\n",
    "from nltk.corpus import stopwords\n",
    "\n",
    "Res_text = nltk.word_tokenize(Res_text)\n",
    "Res_text = [word for word in Res_text if not word in set(stopwords.words(\"english\"))]"
   ]
  },
  {
   "cell_type": "markdown",
   "id": "e9c44afc-8f90-46f2-ab9f-8d41ebf6b174",
   "metadata": {},
   "source": [
    "Words in the sentence."
   ]
  },
  {
   "cell_type": "code",
   "execution_count": 13,
   "id": "f310a8a4-bf45-4964-9b9d-67835d31b5ec",
   "metadata": {},
   "outputs": [
    {
     "data": {
      "text/plain": [
       "['really',\n",
       " 'one',\n",
       " 'friend',\n",
       " 'fit',\n",
       " 'categories',\n",
       " 'therapist',\n",
       " 'calls',\n",
       " 'spiraling',\n",
       " 'anyway',\n",
       " 'pretty',\n",
       " 'much',\n",
       " 'calls',\n",
       " 'time',\n",
       " 'frustrated',\n",
       " 'something',\n",
       " 'boyfriend',\n",
       " 'ask',\n",
       " 'logical',\n",
       " 'would',\n",
       " 'fight',\n",
       " 'would',\n",
       " 'call',\n",
       " 'crazy',\n",
       " 'asks',\n",
       " 'ok',\n",
       " 'say',\n",
       " 'please',\n",
       " 'said',\n",
       " 'hand',\n",
       " 'remote']"
      ]
     },
     "execution_count": 13,
     "metadata": {},
     "output_type": "execute_result"
    }
   ],
   "source": [
    "Res_text"
   ]
  },
  {
   "cell_type": "markdown",
   "id": "df1adb98-1378-4a0c-91cc-5b69644c15c9",
   "metadata": {},
   "source": [
    "### Lemmatazation \n",
    "##### In this chapter, I will translate the words that I have pre-determined into their basic forms."
   ]
  },
  {
   "cell_type": "code",
   "execution_count": 14,
   "id": "01e9d170-b1df-480b-b4b4-fec37c14ae58",
   "metadata": {},
   "outputs": [
    {
     "name": "stderr",
     "output_type": "stream",
     "text": [
      "[nltk_data] Downloading package wordnet to /home/nicholas/nltk_data...\n",
      "[nltk_data]   Package wordnet is already up-to-date!\n",
      "[nltk_data] Downloading package omw-1.4 to /home/nicholas/nltk_data...\n",
      "[nltk_data]   Package omw-1.4 is already up-to-date!\n"
     ]
    },
    {
     "data": {
      "text/plain": [
       "True"
      ]
     },
     "execution_count": 14,
     "metadata": {},
     "output_type": "execute_result"
    }
   ],
   "source": [
    "nltk.download(\"wordnet\")\n",
    "nltk.download(\"omw-1.4\")"
   ]
  },
  {
   "cell_type": "code",
   "execution_count": 15,
   "id": "2ca2d69d-d3af-478d-90ae-26bef3cf1ac3",
   "metadata": {},
   "outputs": [],
   "source": [
    "import nltk as nlp\n",
    "lemma = nlp.WordNetLemmatizer()\n",
    "Res_text = [lemma.lemmatize(word) for word in Res_text]\n",
    "Res_text = \" \".join(Res_text)"
   ]
  },
  {
   "cell_type": "markdown",
   "id": "9f6c00ff-b48d-4fb2-ae6c-0ae20821fa2a",
   "metadata": {},
   "source": [
    "Words have backed to their basic form."
   ]
  },
  {
   "cell_type": "code",
   "execution_count": 16,
   "id": "deaad0b8-e659-4337-90b7-d4e89dea6297",
   "metadata": {},
   "outputs": [
    {
     "data": {
      "text/plain": [
       "'really one friend fit category therapist call spiraling anyway pretty much call time frustrated something boyfriend ask logical would fight would call crazy asks ok say please said hand remote'"
      ]
     },
     "execution_count": 16,
     "metadata": {},
     "output_type": "execute_result"
    }
   ],
   "source": [
    "Res_text"
   ]
  },
  {
   "cell_type": "markdown",
   "id": "619347f4-6efa-49f8-8293-4c0ef898dd46",
   "metadata": {},
   "source": [
    "#### Words \n",
    "###### In this section, I will apply the above studies to the entire data set. I'm getting inside the list of the latest versions of the data."
   ]
  },
  {
   "cell_type": "code",
   "execution_count": 17,
   "id": "0ad26e0b-fbc3-4228-8daf-295723bc7f02",
   "metadata": {},
   "outputs": [],
   "source": [
    "description_list = [] # List\n",
    "for description in data.response_text:\n",
    "       \n",
    "    description = re.sub(\"[^a-zA-Z]\",\" \",description)\n",
    "    description = description.lower() \n",
    "    \n",
    "    description = nltk.word_tokenize(description)\n",
    "    description = [ word for word in description if not word in set(stopwords.words(\"english\"))]\n",
    "    \n",
    "    lemma = nlp.WordNetLemmatizer()\n",
    "    description = [ lemma.lemmatize(word) for word in description]\n",
    "    \n",
    "    description = \" \".join(description)\n",
    "    description_list.append(description)"
   ]
  },
  {
   "cell_type": "code",
   "execution_count": 18,
   "id": "7ddb2917-44cb-4739-aad8-a7845d2ea5e4",
   "metadata": {},
   "outputs": [
    {
     "data": {
      "text/plain": [
       "'really one friend fit category therapist call spiraling anyway pretty much call time frustrated something boyfriend ask logical would fight would call crazy asks ok say please said hand remote'"
      ]
     },
     "execution_count": 18,
     "metadata": {},
     "output_type": "execute_result"
    }
   ],
   "source": [
    "description_list[4]"
   ]
  },
  {
   "cell_type": "markdown",
   "id": "db68e6d0-dd2b-4b5f-af98-03d0fce21c2a",
   "metadata": {},
   "source": [
    "#### Bag of Words \n",
    "##### I find the most used words in the list."
   ]
  },
  {
   "cell_type": "code",
   "execution_count": 19,
   "id": "8379141d-6c2e-47ec-8085-bcb179a82fc5",
   "metadata": {},
   "outputs": [
    {
     "name": "stdout",
     "output_type": "stream",
     "text": [
      "Most frequently used 500 words ['able' 'absolutely' 'acquaintance' 'acted' 'action' 'activity'\n",
      " 'addiction' 'adequate' 'admit' 'advice' 'advise' 'age' 'ago' 'agony'\n",
      " 'alcoholic' 'allowed' 'anniversary' 'answer' 'anxiety' 'anxious'\n",
      " 'apposed' 'ask' 'asks' 'attention' 'aunt' 'avoid' 'away' 'bad'\n",
      " 'basically' 'bedroom' 'best' 'better' 'big' 'bit' 'blow' 'blue' 'blunt'\n",
      " 'book' 'boyfriend' 'break' 'bring' 'brother' 'brought' 'bunch' 'called'\n",
      " 'calling' 'calm' 'came' 'camp' 'camping' 'campsite' 'cancer' 'car' 'care'\n",
      " 'caring' 'category' 'caught' 'cause' 'chance' 'change' 'changed' 'chat'\n",
      " 'circumstance' 'clean' 'cleaning' 'cocaine' 'come' 'comfort' 'comforted'\n",
      " 'commit' 'common' 'complete' 'completely' 'concern' 'confines' 'conflict'\n",
      " 'convinced' 'cop' 'cope' 'counselor' 'countless' 'couple' 'crazy'\n",
      " 'cutter' 'cutting' 'damn' 'dating' 'day' 'dealing' 'dealt' 'death'\n",
      " 'defined' 'depressed' 'depression' 'describes' 'desire' 'diagnosed'\n",
      " 'dialog' 'difficulty' 'disorder' 'doc' 'dont' 'douche' 'drag' 'drove'\n",
      " 'drug' 'dump' 'dumped' 'dying' 'ear' 'earlier' 'email' 'emotional'\n",
      " 'encourage' 'end' 'ended' 'entire' 'essential' 'esteem' 'eventually'\n",
      " 'everyday' 'ex' 'example' 'excited' 'experience' 'express' 'expressing'\n",
      " 'extremely' 'face' 'facebook' 'faced' 'facing' 'fact' 'fairly' 'family'\n",
      " 'father' 'feel' 'feeling' 'fell' 'felt' 'fight' 'fit' 'fixed' 'flicker'\n",
      " 'focus' 'friend' 'frustrated' 'gave' 'ged' 'gf' 'girl' 'girlfriend'\n",
      " 'giving' 'goal' 'going' 'gone' 'good' 'got' 'grade' 'grandmother' 'guess'\n",
      " 'guy' 'hadnt' 'haha' 'half' 'hand' 'happens' 'hard' 'harmed' 'head'\n",
      " 'healing' 'health' 'hear' 'heard' 'help' 'helped' 'helpful' 'helping'\n",
      " 'hesitate' 'high' 'hit' 'hold' 'home' 'homeless' 'honest' 'hood' 'hope'\n",
      " 'hoping' 'horrable' 'hospital' 'hour' 'house' 'huge' 'human' 'hung'\n",
      " 'hurt' 'idk' 'important' 'indirectly' 'ing' 'initiated' 'innermost'\n",
      " 'input' 'inside' 'intense' 'internet' 'irl' 'isolated' 'issue' 'jokingly'\n",
      " 'judge' 'junior' 'kid' 'kill' 'killed' 'kind' 'kindness' 'knew' 'know'\n",
      " 'knowledge' 'known' 'lack' 'late' 'laugh' 'le' 'lent' 'let' 'letting'\n",
      " 'level' 'life' 'light' 'like' 'line' 'listen' 'listened' 'listener'\n",
      " 'listening' 'little' 'living' 'logical' 'long' 'look' 'looked' 'losing'\n",
      " 'loss' 'lost' 'lot' 'loving' 'low' 'major' 'make' 'making' 'managed'\n",
      " 'maybe' 'memorial' 'men' 'mental' 'met' 'method' 'mind' 'mom' 'month'\n",
      " 'mother' 'mt' 'nah' 'naturally' 'necessarily' 'need' 'needed' 'nervous'\n",
      " 'nice' 'night' 'normal' 'number' 'objective' 'obtain' 'occurrence' 'od'\n",
      " 'offer' 'offered' 'oh' 'ok' 'open' 'openness' 'overcome' 'packed'\n",
      " 'parent' 'past' 'path' 'peace' 'people' 'perfect' 'period' 'person'\n",
      " 'personal' 'physical' 'picked' 'pill' 'positive' 'possible' 'possibly'\n",
      " 'pretty' 'probably' 'problem' 'progress' 'promised' 'provide' 'psych'\n",
      " 'pulled' 'purpose' 'qualified' 'question' 'quite' 'rant' 'rational'\n",
      " 'reading' 'reality' 'realize' 'really' 'recovery' 'refers' 'reflect'\n",
      " 'rehab' 'rejected' 'rejecting' 'relate' 'related' 'relationship' 'relief'\n",
      " 'remember' 'remind' 'remote' 'resource' 'respect' 'restless' 'result'\n",
      " 'roommate' 'rude' 'sad' 'said' 'saved' 'saw' 'say' 'saying' 'school'\n",
      " 'schoolwork' 'self' 'sense' 'set' 'severe' 'share' 'shared' 'sharing'\n",
      " 'shelter' 'shit' 'shortly' 'sign' 'similar' 'simply' 'sister' 'situation'\n",
      " 'skipped' 'slightly' 'slowly' 'somebody' 'sort' 'speak' 'specific'\n",
      " 'specifically' 'spent' 'spiraling' 'spot' 'stability' 'start' 'started'\n",
      " 'stayed' 'stopped' 'story' 'stranger' 'struggle' 'struggling' 'stuff'\n",
      " 'subject' 'suffer' 'suicidal' 'suicide' 'summer' 'super' 'support'\n",
      " 'supporting' 'supportive' 'sure' 'surfing' 'survival' 'sustained'\n",
      " 'swallow' 'swaying' 'swimming' 'switch' 'switched' 'taken' 'taking'\n",
      " 'talk' 'talked' 'talking' 'teacher' 'tell' 'telling' 'thankgiving'\n",
      " 'thats' 'therapist' 'therapy' 'theripist' 'thing' 'think' 'thinking'\n",
      " 'thought' 'threw' 'till' 'time' 'told' 'took' 'tough' 'trapped' 'treat'\n",
      " 'treatment' 'tried' 'trouble' 'troubled' 'truth' 'try' 'tryin' 'trying'\n",
      " 'tunnel' 'turmoil' 'tutor' 'twice' 'type' 'understand' 'unfortunately'\n",
      " 'unless' 'used' 'using' 'vent' 'verge' 'virgity' 'visited' 'walked'\n",
      " 'want' 'wanted' 'ward' 'way' 'weed' 'week' 'went' 'wood' 'work' 'worked'\n",
      " 'write' 'year' 'yearbook']\n"
     ]
    }
   ],
   "source": [
    "from sklearn.feature_extraction.text import CountVectorizer\n",
    "max_feature = 500\n",
    "\n",
    "cv = CountVectorizer(max_features = max_feature, stop_words = \"english\")\n",
    "\n",
    "space_matrix = cv.fit_transform(description_list).toarray() # x\n",
    "\n",
    "print(\"Most frequently used {} words {}\".format(max_feature, cv.get_feature_names_out()))"
   ]
  },
  {
   "cell_type": "code",
   "execution_count": null,
   "id": "e64ce62c-b989-4a39-9e10-c1ec1daafd13",
   "metadata": {},
   "outputs": [],
   "source": []
  }
 ],
 "metadata": {
  "kernelspec": {
   "display_name": "Python 3 (ipykernel)",
   "language": "python",
   "name": "python3"
  },
  "language_info": {
   "codemirror_mode": {
    "name": "ipython",
    "version": 3
   },
   "file_extension": ".py",
   "mimetype": "text/x-python",
   "name": "python",
   "nbconvert_exporter": "python",
   "pygments_lexer": "ipython3",
   "version": "3.10.9"
  }
 },
 "nbformat": 4,
 "nbformat_minor": 5
}
