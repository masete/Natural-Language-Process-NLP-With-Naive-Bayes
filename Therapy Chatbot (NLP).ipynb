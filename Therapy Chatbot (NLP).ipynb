{
 "cells": [
  {
   "cell_type": "markdown",
   "id": "e2eae9e4-e9ef-419d-98c7-899aa8b83aca",
   "metadata": {},
   "source": [
    "# Therapy Chatbot\n",
    "\n",
    "The dataset contains 80 user responses, in the response_text column, to a therapy chatbot. Bot said: 'Describe a time when you have acted as a resource for someone else'. User responded. If a response is 'not flagged', the user can continue talking to the bot. If it is 'flagged', the user is referred to help. We are going to predict if it is flagged or not according to users responses."
   ]
  },
  {
   "cell_type": "markdown",
   "id": "92615176-e844-49e4-a2f6-d72c2ebfc3ed",
   "metadata": {},
   "source": [
    "### Libraries and Utilities"
   ]
  },
  {
   "cell_type": "code",
   "execution_count": null,
   "id": "b09ba12e-a77a-403f-b3f8-57ebac0db484",
   "metadata": {},
   "outputs": [],
   "source": []
  }
 ],
 "metadata": {
  "kernelspec": {
   "display_name": "Python 3 (ipykernel)",
   "language": "python",
   "name": "python3"
  },
  "language_info": {
   "codemirror_mode": {
    "name": "ipython",
    "version": 3
   },
   "file_extension": ".py",
   "mimetype": "text/x-python",
   "name": "python",
   "nbconvert_exporter": "python",
   "pygments_lexer": "ipython3",
   "version": "3.10.9"
  }
 },
 "nbformat": 4,
 "nbformat_minor": 5
}
